{
 "cells": [
  {
   "attachments": {},
   "cell_type": "markdown",
   "metadata": {},
   "source": [
    "1.Write a program to accept percentage frome the user and display the grade according to the following criteria:\n",
    "Marks        |   Grade |\n",
    ">90          |    A    |\n",
    ">80 and <=90 |    B    |\n",
    ">=60 and <=80|    C    |\n",
    "below 60     |    D    |"
   ]
  },
  {
   "cell_type": "code",
   "execution_count": 10,
   "metadata": {},
   "outputs": [
    {
     "name": "stdout",
     "output_type": "stream",
     "text": [
      "D\n"
     ]
    }
   ],
   "source": [
    "n=int(input(\"enter your percentage\"))\n",
    "if n > 90:\n",
    "    print(\"A\")\n",
    "elif n > 80 and n<=90:  \n",
    "    print(\"B\")\n",
    "elif n >=60 and n<=80:\n",
    "    print(\"c\")\n",
    "else:\n",
    "    print(\"D\")       "
   ]
  },
  {
   "attachments": {},
   "cell_type": "markdown",
   "metadata": {},
   "source": [
    "2.Write a program to accept the cost price of a bike and display the road tax to be paid according to the criteria."
   ]
  },
  {
   "cell_type": "code",
   "execution_count": 17,
   "metadata": {},
   "outputs": [
    {
     "name": "stdout",
     "output_type": "stream",
     "text": [
      "10%\n"
     ]
    }
   ],
   "source": [
    "n=int(input(\"enter the cost price of bike\"))\n",
    "if n > 100000:\n",
    "    print(\"15%\")\n",
    "elif n>50000 and n<100000:\n",
    "    print(\"10%\") \n",
    "else:\n",
    "    print(\"5%\")       "
   ]
  },
  {
   "attachments": {},
   "cell_type": "markdown",
   "metadata": {
    "notebookRunGroups": {
     "groupValue": "1"
    }
   },
   "source": [
    "3.Accept any city from the user and display monument of that city."
   ]
  },
  {
   "cell_type": "code",
   "execution_count": 5,
   "metadata": {},
   "outputs": [
    {
     "name": "stdout",
     "output_type": "stream",
     "text": [
      "invalid input\n"
     ]
    }
   ],
   "source": [
    "n=input(\"enter you city\")\n",
    "if n=='Delhi':\n",
    "    print(\"Red Fort\")\n",
    "elif n=='Agra':\n",
    "    print(\"Taj Mahal\")\n",
    "elif n=='Jaipur':\n",
    "    print(\"Jai Mahal\")\n",
    "else :\n",
    "    print(\"invalid input\")            \n",
    "# s={\"Delhi\":\"Red Fort\",\"Agra\":\"Taj Mahal\",\"Jaipur\":\"Jai Mahal\"}\n"
   ]
  },
  {
   "attachments": {},
   "cell_type": "markdown",
   "metadata": {},
   "source": [
    "4.Check how many times a given number can be divided by 3 before it is less than equal to 10."
   ]
  },
  {
   "cell_type": "code",
   "execution_count": 6,
   "metadata": {},
   "outputs": [
    {
     "name": "stdout",
     "output_type": "stream",
     "text": [
      "the number can be divided by 3 for 0 times\n"
     ]
    }
   ],
   "source": [
    "n=int(input(\"enter the number\"))\n",
    "count=0\n",
    "while n%3==0 and count <=10:\n",
    "   count +=1\n",
    "   n /= 3\n",
    "if count <= 10:\n",
    "    print(\"the number can be divided by 3 for\",count,\"times\")\n",
    "else:\n",
    "    print(\"the number cannot be divided by 3 for less than or equal to 10 \")\n",
    "    \n",
    "\n",
    "    \n"
   ]
  },
  {
   "attachments": {},
   "cell_type": "markdown",
   "metadata": {},
   "source": [
    "5.Why and When to use while loop in python give a detailed description with example."
   ]
  },
  {
   "attachments": {},
   "cell_type": "markdown",
   "metadata": {},
   "source": [
    "ans:-while loop is used when we use Condition becuse the while loop is first chek the condition then it will exicute sequntial manner."
   ]
  },
  {
   "attachments": {},
   "cell_type": "markdown",
   "metadata": {},
   "source": [
    "if the qution is enter the table for 2 start frome 1-10 first it chek the condition then it will be exicute \n",
    "EXAMPLE:-"
   ]
  },
  {
   "cell_type": "code",
   "execution_count": 10,
   "metadata": {},
   "outputs": [
    {
     "name": "stdout",
     "output_type": "stream",
     "text": [
      "4 * 1 = 4\n",
      "4 * 2 = 8\n",
      "4 * 3 = 12\n",
      "4 * 4 = 16\n",
      "4 * 5 = 20\n",
      "4 * 6 = 24\n",
      "4 * 7 = 28\n",
      "4 * 8 = 32\n",
      "4 * 9 = 36\n",
      "4 * 10 = 40\n"
     ]
    }
   ],
   "source": [
    "\n",
    "n=int(input(\"enter the number you need the table\"))\n",
    "i=1\n",
    "while i<=10:\n",
    "    result=n*i\n",
    "    print(n,\"*\",i,\"=\",result)\n",
    "    i=i+1"
   ]
  },
  {
   "attachments": {},
   "cell_type": "markdown",
   "metadata": {},
   "source": [
    "6.Use nested while loop to print 3 different patteren."
   ]
  },
  {
   "cell_type": "code",
   "execution_count": 5,
   "metadata": {},
   "outputs": [
    {
     "name": "stdout",
     "output_type": "stream",
     "text": [
      "*\n",
      "**\n",
      "***\n",
      "****\n"
     ]
    }
   ],
   "source": [
    "i=1\n",
    "while i <= 4:\n",
    "    j=1\n",
    "    while j<=i:\n",
    "        print(\"*\",end=\"\")\n",
    "        j +=1\n",
    "    print() \n",
    "    i += 1   "
   ]
  },
  {
   "cell_type": "code",
   "execution_count": 7,
   "metadata": {},
   "outputs": [
    {
     "name": "stdout",
     "output_type": "stream",
     "text": [
      "****\n",
      "***\n",
      "**\n",
      "*\n"
     ]
    }
   ],
   "source": [
    "i=4\n",
    "while i >= 1:\n",
    "    j=1\n",
    "    while j<=i:\n",
    "        print(\"*\",end=\"\")\n",
    "        j +=1\n",
    "    print() \n",
    "    i -= 1   "
   ]
  },
  {
   "cell_type": "code",
   "execution_count": 12,
   "metadata": {},
   "outputs": [
    {
     "name": "stdout",
     "output_type": "stream",
     "text": [
      "*****\n",
      "*****\n",
      "*****\n",
      "*****\n",
      "*****\n"
     ]
    }
   ],
   "source": [
    "i=1\n",
    "while i <= 5:\n",
    "    j=1\n",
    "    while j<=5 -i:\n",
    "        print(\"*\",end=\"\")\n",
    "        j +=1\n",
    "    k=1\n",
    "    while k <= i:\n",
    "        print(\"*\",end=\"\")  \n",
    "        k += 1  \n",
    "    print() \n",
    "    i += 1   "
   ]
  },
  {
   "attachments": {},
   "cell_type": "markdown",
   "metadata": {},
   "source": [
    "7.Reverse a while loop to display numbers from 10 to 1."
   ]
  },
  {
   "cell_type": "code",
   "execution_count": 8,
   "metadata": {},
   "outputs": [
    {
     "name": "stdout",
     "output_type": "stream",
     "text": [
      "10\n",
      "9\n",
      "8\n",
      "7\n",
      "6\n",
      "5\n",
      "4\n",
      "3\n",
      "2\n",
      "1\n"
     ]
    }
   ],
   "source": [
    "i=10\n",
    "while i >= 1:\n",
    "    print(i)\n",
    "    i-=1   "
   ]
  }
 ],
 "metadata": {
  "kernelspec": {
   "display_name": "Python 3",
   "language": "python",
   "name": "python3"
  },
  "language_info": {
   "codemirror_mode": {
    "name": "ipython",
    "version": 3
   },
   "file_extension": ".py",
   "mimetype": "text/x-python",
   "name": "python",
   "nbconvert_exporter": "python",
   "pygments_lexer": "ipython3",
   "version": "3.11.1"
  },
  "orig_nbformat": 4
 },
 "nbformat": 4,
 "nbformat_minor": 2
}
